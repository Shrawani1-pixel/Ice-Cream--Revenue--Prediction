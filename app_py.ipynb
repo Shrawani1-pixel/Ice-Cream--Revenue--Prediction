{
  "nbformat": 4,
  "nbformat_minor": 0,
  "metadata": {
    "colab": {
      "provenance": []
    },
    "kernelspec": {
      "name": "python3",
      "display_name": "Python 3"
    },
    "language_info": {
      "name": "python"
    }
  },
  "cells": [
    {
      "cell_type": "code",
      "execution_count": null,
      "metadata": {
        "id": "ME9ce39kQYKL"
      },
      "outputs": [],
      "source": [
        "# Ice Cream Revenue Prediction Project\n",
        "# ------------------------------------\n",
        "# Importing libraries\n",
        "import pandas as pd\n",
        "import numpy as np\n",
        "import matplotlib.pyplot as plt\n",
        "from sklearn.linear_model import LinearRegression\n",
        "\n",
        "# Step 1: Create Dataset\n",
        "# Suppose we have data of temperature (in °C) vs Ice Cream Sales (Revenue in Rs)\n",
        "data = {\n",
        "    \"Temperature\": [14, 16, 18, 20, 22, 24, 26, 28, 30, 32, 34],\n",
        "    \"Revenue\":     [200, 220, 250, 270, 300, 330, 360, 400, 430, 460, 500]\n",
        "}\n",
        "df = pd.DataFrame(data)\n",
        "\n",
        "# Display dataset\n",
        "print(\"📊 Ice Cream Sales Dataset:\")\n",
        "print(df)\n",
        "\n",
        "# Step 2: Visualize Data\n",
        "plt.scatter(df[\"Temperature\"], df[\"Revenue\"], color='blue')\n",
        "plt.title(\"Ice Cream Revenue vs Temperature\")\n",
        "plt.xlabel(\"Temperature (°C)\")\n",
        "plt.ylabel(\"Revenue (Rs)\")\n",
        "plt.grid(True)\n",
        "plt.show()\n",
        "\n",
        "# Step 3: Prepare Data\n",
        "X = df[[\"Temperature\"]]  # Independent variable (2D)\n",
        "y = df[\"Revenue\"]        # Dependent variable\n",
        "\n",
        "# Step 4: Train Model\n",
        "model = LinearRegression()\n",
        "model.fit(X, y)\n",
        "\n",
        "# Step 5: Make Predictions\n",
        "pred_temp = [[25], [35]]  # predict at 25°C and 35°C\n",
        "predicted_revenue = model.predict(pred_temp)\n",
        "\n",
        "print(f\"💡 Predicted Revenue at 25°C = Rs {predicted_revenue[0]:.2f}\")\n",
        "print(f\"💡 Predicted Revenue at 35°C = Rs {predicted_revenue[1]:.2f}\")\n",
        "\n",
        "# Step 6: Plot Regression Line\n",
        "plt.scatter(df[\"Temperature\"], df[\"Revenue\"], color='blue', label=\"Actual Data\")\n",
        "plt.plot(df[\"Temperature\"], model.predict(X), color='red', label=\"Regression Line\")\n",
        "plt.scatter([25, 35], predicted_revenue, color='green', marker='x', s=100, label=\"Predictions\")\n",
        "plt.title(\"Ice Cream Revenue Prediction\")\n",
        "plt.xlabel(\"Temperature (°C)\")\n",
        "plt.ylabel(\"Revenue (Rs)\")\n",
        "plt.legend()\n",
        "plt.grid(True)\n",
        "plt.show()\n"
      ]
    }
  ]
}